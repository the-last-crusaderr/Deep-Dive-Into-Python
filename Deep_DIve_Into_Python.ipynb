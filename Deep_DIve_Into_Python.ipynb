{
  "nbformat": 4,
  "nbformat_minor": 0,
  "metadata": {
    "colab": {
      "name": "Deep DIve Into Python.ipynb",
      "provenance": [],
      "authorship_tag": "ABX9TyOefYv+XV+IhKMG83BQiCPE",
      "include_colab_link": true
    },
    "kernelspec": {
      "name": "python3",
      "display_name": "Python 3"
    },
    "language_info": {
      "name": "python"
    }
  },
  "cells": [
    {
      "cell_type": "markdown",
      "metadata": {
        "id": "view-in-github",
        "colab_type": "text"
      },
      "source": [
        "<a href=\"https://colab.research.google.com/github/the-last-crusaderr/Deep-Dive-Into-Python/blob/main/Deep_DIve_Into_Python.ipynb\" target=\"_parent\"><img src=\"https://colab.research.google.com/assets/colab-badge.svg\" alt=\"Open In Colab\"/></a>"
      ]
    },
    {
      "cell_type": "markdown",
      "metadata": {
        "id": "MdVcBzimHTVR"
      },
      "source": [
        "# The objective of this project is to exploring the different parts of the language including its strenghts and weaknesses.\n",
        "\n",
        "# This is divided into parts:-\n",
        "\n",
        "* Data Types\n",
        "* Collection Data Types\n",
        "* Control Structure and Function \n",
        "* Modules\n",
        "* OOP Programming\n",
        "\n"
      ]
    },
    {
      "cell_type": "markdown",
      "metadata": {
        "id": "U5lVMUbuJrwP"
      },
      "source": [
        "# Lets start with Data Types"
      ]
    },
    {
      "cell_type": "code",
      "metadata": {
        "colab": {
          "base_uri": "https://localhost:8080/"
        },
        "id": "jQ1mgVdEHMsR",
        "outputId": "b77dbf92-dfe0-46db-9dbd-5ed064b17bc2"
      },
      "source": [
        "len( dir(__builtin__) )               # Don't use from this set as a name of identifier."
      ],
      "execution_count": null,
      "outputs": [
        {
          "output_type": "execute_result",
          "data": {
            "text/plain": [
              "156"
            ]
          },
          "metadata": {},
          "execution_count": 5
        }
      ]
    },
    {
      "cell_type": "code",
      "metadata": {
        "colab": {
          "base_uri": "https://localhost:8080/"
        },
        "id": "-WFbqhueJ78G",
        "outputId": "e2d44482-c990-4ccb-8fa8-babdb4b7e63c"
      },
      "source": [
        "for _ in range(5):\n",
        "  print(_)"
      ],
      "execution_count": null,
      "outputs": [
        {
          "output_type": "stream",
          "name": "stdout",
          "text": [
            "0\n",
            "1\n",
            "2\n",
            "3\n",
            "4\n"
          ]
        }
      ]
    },
    {
      "cell_type": "code",
      "metadata": {
        "colab": {
          "base_uri": "https://localhost:8080/",
          "height": 131
        },
        "id": "mNwMvHsxNRyH",
        "outputId": "950e9314-4a29-4264-d0ee-8f14f9a42f21"
      },
      "source": [
        "1use = 3                        # Syntax error exception, whenever invalid identifier used"
      ],
      "execution_count": null,
      "outputs": [
        {
          "output_type": "error",
          "ename": "SyntaxError",
          "evalue": "ignored",
          "traceback": [
            "\u001b[0;36m  File \u001b[0;32m\"<ipython-input-1-3cafc535e74d>\"\u001b[0;36m, line \u001b[0;32m1\u001b[0m\n\u001b[0;31m    1use = 3\u001b[0m\n\u001b[0m       ^\u001b[0m\n\u001b[0;31mSyntaxError\u001b[0m\u001b[0;31m:\u001b[0m invalid syntax\n"
          ]
        }
      ]
    },
    {
      "cell_type": "code",
      "metadata": {
        "colab": {
          "base_uri": "https://localhost:8080/"
        },
        "id": "GzKgfUO2rvmv",
        "outputId": "00229dd7-f6d6-427c-b6d8-ba4827d63a00"
      },
      "source": [
        "x = int(0o21)\n",
        "print(int('a4',16))"
      ],
      "execution_count": 23,
      "outputs": [
        {
          "output_type": "stream",
          "name": "stdout",
          "text": [
            "164\n"
          ]
        }
      ]
    },
    {
      "cell_type": "code",
      "metadata": {
        "colab": {
          "base_uri": "https://localhost:8080/"
        },
        "id": "OZSjTV2Rs6FI",
        "outputId": "745b7737-3cd2-4bd9-9635-535becfe80fc"
      },
      "source": [
        "divmod(3,6)"
      ],
      "execution_count": null,
      "outputs": [
        {
          "output_type": "execute_result",
          "data": {
            "text/plain": [
              "(0, 3)"
            ]
          },
          "metadata": {},
          "execution_count": 13
        }
      ]
    },
    {
      "cell_type": "markdown",
      "metadata": {
        "id": "FuK3GFr6wt9P"
      },
      "source": [
        "# Integrals Types\n",
        "\n",
        "* Integers\n",
        "* Booleans"
      ]
    },
    {
      "cell_type": "code",
      "metadata": {
        "id": "wyljUoE6uW9M",
        "colab": {
          "base_uri": "https://localhost:8080/"
        },
        "outputId": "c55ab578-c38b-49aa-d6f9-6273710bac51"
      },
      "source": [
        "# How to create integer data types\n",
        "\n",
        "# By using literals\n",
        "\n",
        "x = 12\n",
        "print(x)\n",
        "\n",
        "# By using constructor of 0,1,2 arguments\n",
        "\n",
        "\n",
        "print(int())\n",
        "print(int(12))\n",
        "print(int('12',8))\n",
        "\n",
        "\n",
        "\n",
        "# Binary operator available -  &,|,~,^,<<,>>"
      ],
      "execution_count": 24,
      "outputs": [
        {
          "output_type": "stream",
          "name": "stdout",
          "text": [
            "12\n",
            "0\n",
            "12\n",
            "10\n"
          ]
        }
      ]
    },
    {
      "cell_type": "code",
      "metadata": {
        "colab": {
          "base_uri": "https://localhost:8080/"
        },
        "id": "aaJPD0TQzgbP",
        "outputId": "9ed1a411-4cb2-479c-f199-2b764cf9e322"
      },
      "source": [
        "# How to use boolean\n",
        "\n",
        "\n",
        "\n",
        "print(True)\n",
        "print(bool())\n",
        "print(bool(1))\n",
        "\n",
        "\n",
        "# 3 logical operator available - and,or,not\n",
        "\n"
      ],
      "execution_count": 25,
      "outputs": [
        {
          "output_type": "stream",
          "name": "stdout",
          "text": [
            "True\n",
            "False\n",
            "True\n"
          ]
        }
      ]
    },
    {
      "cell_type": "code",
      "metadata": {
        "colab": {
          "base_uri": "https://localhost:8080/"
        },
        "id": "FSWY9-_ntufC",
        "outputId": "ec61f4bb-6804-457f-cf5e-a44b825fa071"
      },
      "source": [
        "print(round(34,1))\n",
        "print(round(34.34,1))\n",
        "print(round(234.34,-1))"
      ],
      "execution_count": null,
      "outputs": [
        {
          "output_type": "stream",
          "name": "stdout",
          "text": [
            "34\n",
            "34.3\n",
            "230.0\n"
          ]
        }
      ]
    }
  ]
}