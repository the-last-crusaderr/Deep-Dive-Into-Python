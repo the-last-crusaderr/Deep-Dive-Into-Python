{
  "nbformat": 4,
  "nbformat_minor": 0,
  "metadata": {
    "colab": {
      "name": "Deep DIve Into Python.ipynb",
      "provenance": [],
      "authorship_tag": "ABX9TyP+XUMiZIzWnGaDzFzWnZtx",
      "include_colab_link": true
    },
    "kernelspec": {
      "name": "python3",
      "display_name": "Python 3"
    },
    "language_info": {
      "name": "python"
    }
  },
  "cells": [
    {
      "cell_type": "markdown",
      "metadata": {
        "id": "view-in-github",
        "colab_type": "text"
      },
      "source": [
        "<a href=\"https://colab.research.google.com/github/the-last-crusaderr/Deep-Dive-Into-Python/blob/main/Deep_DIve_Into_Python.ipynb\" target=\"_parent\"><img src=\"https://colab.research.google.com/assets/colab-badge.svg\" alt=\"Open In Colab\"/></a>"
      ]
    },
    {
      "cell_type": "markdown",
      "metadata": {
        "id": "MdVcBzimHTVR"
      },
      "source": [
        "# The objective of this project is to exploring the different parts of the language including its strenghts and weaknesses.\n",
        "\n",
        "# This is divided into parts:-\n",
        "\n",
        "* Data Types\n",
        "* Collection Data Types\n",
        "* Control Structure and Function \n",
        "* Modules\n",
        "* OOP Programming\n",
        "\n"
      ]
    },
    {
      "cell_type": "markdown",
      "metadata": {
        "id": "U5lVMUbuJrwP"
      },
      "source": [
        "# Lets start with Data Types"
      ]
    },
    {
      "cell_type": "code",
      "metadata": {
        "colab": {
          "base_uri": "https://localhost:8080/"
        },
        "id": "jQ1mgVdEHMsR",
        "outputId": "b77dbf92-dfe0-46db-9dbd-5ed064b17bc2"
      },
      "source": [
        "len( dir(__builtin__) )               # Don't use from this set as a name of identifier."
      ],
      "execution_count": 5,
      "outputs": [
        {
          "output_type": "execute_result",
          "data": {
            "text/plain": [
              "156"
            ]
          },
          "metadata": {},
          "execution_count": 5
        }
      ]
    },
    {
      "cell_type": "code",
      "metadata": {
        "colab": {
          "base_uri": "https://localhost:8080/"
        },
        "id": "-WFbqhueJ78G",
        "outputId": "e2d44482-c990-4ccb-8fa8-babdb4b7e63c"
      },
      "source": [
        "for _ in range(5):\n",
        "  print(_)"
      ],
      "execution_count": 6,
      "outputs": [
        {
          "output_type": "stream",
          "name": "stdout",
          "text": [
            "0\n",
            "1\n",
            "2\n",
            "3\n",
            "4\n"
          ]
        }
      ]
    },
    {
      "cell_type": "code",
      "metadata": {
        "colab": {
          "base_uri": "https://localhost:8080/",
          "height": 131
        },
        "id": "mNwMvHsxNRyH",
        "outputId": "950e9314-4a29-4264-d0ee-8f14f9a42f21"
      },
      "source": [
        "1use = 3                        # Syntax error exception, whenever invalid identifier used"
      ],
      "execution_count": 1,
      "outputs": [
        {
          "output_type": "error",
          "ename": "SyntaxError",
          "evalue": "ignored",
          "traceback": [
            "\u001b[0;36m  File \u001b[0;32m\"<ipython-input-1-3cafc535e74d>\"\u001b[0;36m, line \u001b[0;32m1\u001b[0m\n\u001b[0;31m    1use = 3\u001b[0m\n\u001b[0m       ^\u001b[0m\n\u001b[0;31mSyntaxError\u001b[0m\u001b[0;31m:\u001b[0m invalid syntax\n"
          ]
        }
      ]
    },
    {
      "cell_type": "code",
      "metadata": {
        "id": "GzKgfUO2rvmv"
      },
      "source": [
        ""
      ],
      "execution_count": null,
      "outputs": []
    }
  ]
}