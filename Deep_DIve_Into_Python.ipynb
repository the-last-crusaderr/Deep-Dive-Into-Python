{
  "nbformat": 4,
  "nbformat_minor": 0,
  "metadata": {
    "colab": {
      "name": "Deep DIve Into Python.ipynb",
      "provenance": [],
      "authorship_tag": "ABX9TyMHusOyCrrwfGOgmzRrjEFL",
      "include_colab_link": true
    },
    "kernelspec": {
      "name": "python3",
      "display_name": "Python 3"
    },
    "language_info": {
      "name": "python"
    }
  },
  "cells": [
    {
      "cell_type": "markdown",
      "metadata": {
        "id": "view-in-github",
        "colab_type": "text"
      },
      "source": [
        "<a href=\"https://colab.research.google.com/github/the-last-crusaderr/Deep-Dive-Into-Python/blob/main/Deep_DIve_Into_Python.ipynb\" target=\"_parent\"><img src=\"https://colab.research.google.com/assets/colab-badge.svg\" alt=\"Open In Colab\"/></a>"
      ]
    },
    {
      "cell_type": "markdown",
      "metadata": {
        "id": "MdVcBzimHTVR"
      },
      "source": [
        "# The objective of this project is to exploring the different parts of the language including its strenghts and weaknesses.\n",
        "\n",
        "# This is divided into parts:-\n",
        "\n",
        "* Data Types\n",
        "* Collection Data Types\n",
        "* Control Structure and Function \n",
        "* Modules\n",
        "* OOP Programming\n",
        "\n"
      ]
    },
    {
      "cell_type": "markdown",
      "metadata": {
        "id": "U5lVMUbuJrwP"
      },
      "source": [
        "# Lets start with Data Types"
      ]
    },
    {
      "cell_type": "code",
      "metadata": {
        "colab": {
          "base_uri": "https://localhost:8080/"
        },
        "id": "jQ1mgVdEHMsR",
        "outputId": "b77dbf92-dfe0-46db-9dbd-5ed064b17bc2"
      },
      "source": [
        "len( dir(__builtin__) )               # Don't use from this set as a name of identifier."
      ],
      "execution_count": 5,
      "outputs": [
        {
          "output_type": "execute_result",
          "data": {
            "text/plain": [
              "156"
            ]
          },
          "metadata": {},
          "execution_count": 5
        }
      ]
    },
    {
      "cell_type": "code",
      "metadata": {
        "id": "-WFbqhueJ78G"
      },
      "source": [
        ""
      ],
      "execution_count": null,
      "outputs": []
    }
  ]
}