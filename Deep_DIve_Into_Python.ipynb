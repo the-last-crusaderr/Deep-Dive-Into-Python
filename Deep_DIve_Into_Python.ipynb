{
  "nbformat": 4,
  "nbformat_minor": 0,
  "metadata": {
    "colab": {
      "name": "Deep DIve Into Python.ipynb",
      "provenance": [],
      "authorship_tag": "ABX9TyNAHvSwXU2PSKF774hRoMtC",
      "include_colab_link": true
    },
    "kernelspec": {
      "name": "python3",
      "display_name": "Python 3"
    },
    "language_info": {
      "name": "python"
    }
  },
  "cells": [
    {
      "cell_type": "markdown",
      "metadata": {
        "id": "view-in-github",
        "colab_type": "text"
      },
      "source": [
        "<a href=\"https://colab.research.google.com/github/the-last-crusaderr/Deep-Dive-Into-Python/blob/main/Deep_DIve_Into_Python.ipynb\" target=\"_parent\"><img src=\"https://colab.research.google.com/assets/colab-badge.svg\" alt=\"Open In Colab\"/></a>"
      ]
    },
    {
      "cell_type": "markdown",
      "metadata": {
        "id": "MdVcBzimHTVR"
      },
      "source": [
        "# The objective of this project is to exploring the diffrent parts of the language including its strenghts and weaknesses.\n"
      ]
    },
    {
      "cell_type": "code",
      "metadata": {
        "id": "jQ1mgVdEHMsR"
      },
      "source": [
        ""
      ],
      "execution_count": null,
      "outputs": []
    }
  ]
}