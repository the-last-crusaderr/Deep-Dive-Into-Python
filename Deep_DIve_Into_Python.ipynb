{
  "nbformat": 4,
  "nbformat_minor": 0,
  "metadata": {
    "colab": {
      "name": "Deep DIve Into Python.ipynb",
      "provenance": [],
      "authorship_tag": "ABX9TyPBKWmZB2qfHQXECa0x6E8L",
      "include_colab_link": true
    },
    "kernelspec": {
      "name": "python3",
      "display_name": "Python 3"
    },
    "language_info": {
      "name": "python"
    }
  },
  "cells": [
    {
      "cell_type": "markdown",
      "metadata": {
        "id": "view-in-github",
        "colab_type": "text"
      },
      "source": [
        "<a href=\"https://colab.research.google.com/github/the-last-crusaderr/Deep-Dive-Into-Python/blob/main/Deep_DIve_Into_Python.ipynb\" target=\"_parent\"><img src=\"https://colab.research.google.com/assets/colab-badge.svg\" alt=\"Open In Colab\"/></a>"
      ]
    },
    {
      "cell_type": "markdown",
      "metadata": {
        "id": "MdVcBzimHTVR"
      },
      "source": [
        "# The objective of this project is to exploring the different parts of the language including its strenghts and weaknesses.\n",
        "\n",
        "# This is divided into parts:-\n",
        "\n",
        "* Data Types\n",
        "* Collection Data Types\n",
        "* Control Structure and Function \n",
        "* Modules\n",
        "* OOP Programming\n",
        "\n"
      ]
    },
    {
      "cell_type": "markdown",
      "metadata": {
        "id": "U5lVMUbuJrwP"
      },
      "source": [
        "# Lets start with Data Types"
      ]
    },
    {
      "cell_type": "code",
      "metadata": {
        "colab": {
          "base_uri": "https://localhost:8080/"
        },
        "id": "jQ1mgVdEHMsR",
        "outputId": "b77dbf92-dfe0-46db-9dbd-5ed064b17bc2"
      },
      "source": [
        "len( dir(__builtin__) )               # Don't use from this set as a name of identifier."
      ],
      "execution_count": null,
      "outputs": [
        {
          "output_type": "execute_result",
          "data": {
            "text/plain": [
              "156"
            ]
          },
          "metadata": {},
          "execution_count": 5
        }
      ]
    },
    {
      "cell_type": "code",
      "metadata": {
        "colab": {
          "base_uri": "https://localhost:8080/"
        },
        "id": "-WFbqhueJ78G",
        "outputId": "e2d44482-c990-4ccb-8fa8-babdb4b7e63c"
      },
      "source": [
        "for _ in range(5):\n",
        "  print(_)"
      ],
      "execution_count": null,
      "outputs": [
        {
          "output_type": "stream",
          "name": "stdout",
          "text": [
            "0\n",
            "1\n",
            "2\n",
            "3\n",
            "4\n"
          ]
        }
      ]
    },
    {
      "cell_type": "code",
      "metadata": {
        "colab": {
          "base_uri": "https://localhost:8080/",
          "height": 131
        },
        "id": "mNwMvHsxNRyH",
        "outputId": "950e9314-4a29-4264-d0ee-8f14f9a42f21"
      },
      "source": [
        "1use = 3                        # Syntax error exception, whenever invalid identifier used"
      ],
      "execution_count": null,
      "outputs": [
        {
          "output_type": "error",
          "ename": "SyntaxError",
          "evalue": "ignored",
          "traceback": [
            "\u001b[0;36m  File \u001b[0;32m\"<ipython-input-1-3cafc535e74d>\"\u001b[0;36m, line \u001b[0;32m1\u001b[0m\n\u001b[0;31m    1use = 3\u001b[0m\n\u001b[0m       ^\u001b[0m\n\u001b[0;31mSyntaxError\u001b[0m\u001b[0;31m:\u001b[0m invalid syntax\n"
          ]
        }
      ]
    },
    {
      "cell_type": "code",
      "metadata": {
        "colab": {
          "base_uri": "https://localhost:8080/"
        },
        "id": "GzKgfUO2rvmv",
        "outputId": "00229dd7-f6d6-427c-b6d8-ba4827d63a00"
      },
      "source": [
        "x = int(0o21)\n",
        "print(int('a4',16))"
      ],
      "execution_count": null,
      "outputs": [
        {
          "output_type": "stream",
          "name": "stdout",
          "text": [
            "164\n"
          ]
        }
      ]
    },
    {
      "cell_type": "code",
      "metadata": {
        "colab": {
          "base_uri": "https://localhost:8080/"
        },
        "id": "OZSjTV2Rs6FI",
        "outputId": "745b7737-3cd2-4bd9-9635-535becfe80fc"
      },
      "source": [
        "divmod(3,6)"
      ],
      "execution_count": null,
      "outputs": [
        {
          "output_type": "execute_result",
          "data": {
            "text/plain": [
              "(0, 3)"
            ]
          },
          "metadata": {},
          "execution_count": 13
        }
      ]
    },
    {
      "cell_type": "markdown",
      "metadata": {
        "id": "FuK3GFr6wt9P"
      },
      "source": [
        "# Integrals Types\n",
        "\n",
        "* Integers\n",
        "* Booleans"
      ]
    },
    {
      "cell_type": "code",
      "metadata": {
        "id": "wyljUoE6uW9M",
        "colab": {
          "base_uri": "https://localhost:8080/"
        },
        "outputId": "c55ab578-c38b-49aa-d6f9-6273710bac51"
      },
      "source": [
        "# How to create integer data types\n",
        "\n",
        "# By using literals\n",
        "\n",
        "x = 12\n",
        "print(x)\n",
        "\n",
        "# By using constructor of 0,1,2 arguments\n",
        "\n",
        "\n",
        "print(int())\n",
        "print(int(12))\n",
        "print(int('12',8))\n",
        "\n",
        "\n",
        "\n",
        "# Binary operator available -  &,|,~,^,<<,>>"
      ],
      "execution_count": null,
      "outputs": [
        {
          "output_type": "stream",
          "name": "stdout",
          "text": [
            "12\n",
            "0\n",
            "12\n",
            "10\n"
          ]
        }
      ]
    },
    {
      "cell_type": "code",
      "metadata": {
        "colab": {
          "base_uri": "https://localhost:8080/"
        },
        "id": "aaJPD0TQzgbP",
        "outputId": "9ed1a411-4cb2-479c-f199-2b764cf9e322"
      },
      "source": [
        "# How to use boolean\n",
        "\n",
        "\n",
        "\n",
        "print(True)\n",
        "print(bool())\n",
        "print(bool(1))\n",
        "\n",
        "\n",
        "# 3 logical operator available - and,or,not\n",
        "\n"
      ],
      "execution_count": null,
      "outputs": [
        {
          "output_type": "stream",
          "name": "stdout",
          "text": [
            "True\n",
            "False\n",
            "True\n"
          ]
        }
      ]
    },
    {
      "cell_type": "markdown",
      "metadata": {
        "id": "T2zJm41s1p-4"
      },
      "source": [
        "# Floating point\n",
        "\n",
        "* floating point\n",
        "* decimals  (accuracy over speed,present in decimal module)\n",
        "* complex number"
      ]
    },
    {
      "cell_type": "code",
      "metadata": {
        "colab": {
          "base_uri": "https://localhost:8080/",
          "height": 165
        },
        "id": "y33wXEtx3WSd",
        "outputId": "5260ccbb-7ead-439c-a0b7-8cac1923b2fe"
      },
      "source": [
        "\"{ {0}} {1} }\".format(\"I'm in braces\", \"I'm not\")\n"
      ],
      "execution_count": null,
      "outputs": [
        {
          "output_type": "error",
          "ename": "ValueError",
          "evalue": "ignored",
          "traceback": [
            "\u001b[0;31m---------------------------------------------------------------------------\u001b[0m",
            "\u001b[0;31mValueError\u001b[0m                                Traceback (most recent call last)",
            "\u001b[0;32m<ipython-input-28-c8b22f112504>\u001b[0m in \u001b[0;36m<module>\u001b[0;34m()\u001b[0m\n\u001b[0;32m----> 1\u001b[0;31m \u001b[0;34m\"{ {0}} {1} }\"\u001b[0m\u001b[0;34m.\u001b[0m\u001b[0mformat\u001b[0m\u001b[0;34m(\u001b[0m\u001b[0;34m\"I'm in braces\"\u001b[0m\u001b[0;34m,\u001b[0m \u001b[0;34m\"I'm not\"\u001b[0m\u001b[0;34m)\u001b[0m\u001b[0;34m\u001b[0m\u001b[0;34m\u001b[0m\u001b[0m\n\u001b[0m",
            "\u001b[0;31mValueError\u001b[0m: unexpected '{' in field name"
          ]
        }
      ]
    },
    {
      "cell_type": "code",
      "metadata": {
        "id": "5Bhuyosn3XQr",
        "colab": {
          "base_uri": "https://localhost:8080/",
          "height": 131
        },
        "outputId": "03e76002-17e1-4721-89ac-a336ea876f22"
      },
      "source": [
        "l = [1,2,23,32,3,5,7,22]\n",
        "\n",
        "# quadratic \n",
        "\n",
        "max = l[0]\n",
        "for i in range(len(l)):\n",
        "  for j in range(len(l)):\n",
        "    if l[j] > l[i]:\n",
        "      max = l[j]\n",
        "\n",
        "print(max)\n",
        "\n",
        "\n"
      ],
      "execution_count": 3,
      "outputs": [
        {
          "output_type": "error",
          "ename": "SyntaxError",
          "evalue": "ignored",
          "traceback": [
            "\u001b[0;36m  File \u001b[0;32m\"<ipython-input-3-99bcfdf09343>\"\u001b[0;36m, line \u001b[0;32m17\u001b[0m\n\u001b[0;31m    for i in range(len(l)):\u001b[0m\n\u001b[0m                           ^\u001b[0m\n\u001b[0;31mSyntaxError\u001b[0m\u001b[0;31m:\u001b[0m unexpected EOF while parsing\n"
          ]
        }
      ]
    },
    {
      "cell_type": "code",
      "metadata": {
        "colab": {
          "base_uri": "https://localhost:8080/"
        },
        "id": "-wpbbkdE7EL7",
        "outputId": "720cba9e-b98c-4732-9bbb-cfbe24f5f219"
      },
      "source": [
        "# linear \n",
        "l = [1,2,23,32,3,5,7,22]\n",
        "\n",
        "\n",
        "\n",
        "max = l[0]\n",
        "for i in range(len(l)):\n",
        "  if l[i]>max:\n",
        "    max = l[i]\n",
        "\n",
        "print(max)    \n",
        "    "
      ],
      "execution_count": 4,
      "outputs": [
        {
          "output_type": "stream",
          "name": "stdout",
          "text": [
            "32\n"
          ]
        }
      ]
    },
    {
      "cell_type": "code",
      "metadata": {
        "id": "_r7G9tQBXm2E"
      },
      "source": [
        "from timeit import Timer\n",
        "\n",
        "def time1():\n",
        "  l = []\n",
        "  for i in range(100):\n",
        "    l.append(i)\n",
        "\n",
        "def time2():\n",
        "  l = []\n",
        "  for i in range(100):\n",
        "    l = l + [i]    \n",
        "\n",
        "def time3():\n",
        "  l = list(range(100))    \n",
        "\n",
        "def time4():\n",
        "  l = [i for i in range(100)]\n",
        "\n",
        "\n",
        "\n",
        "\n",
        "\n",
        "t1 = Timer('test1()','from __main__ import test1') "
      ],
      "execution_count": 8,
      "outputs": []
    },
    {
      "cell_type": "code",
      "metadata": {
        "colab": {
          "base_uri": "https://localhost:8080/"
        },
        "id": "znCL0QNNXtCL",
        "outputId": "d1213c9f-fd55-4c6b-b4d3-8d230ad0bc80"
      },
      "source": [
        "class Stack:\n",
        "  def __init__(self):\n",
        "    self.items = []\n",
        "\n",
        "  def push(self,val):\n",
        "    self.items.append(val)  \n",
        "\n",
        "  def pop(self):  \n",
        "    return self.items.pop()\n",
        "\n",
        "  def peek(self):\n",
        "    return self.items[len(self.items)-1]  \n",
        "\n",
        "  def size(self):\n",
        "    return len(self.items)  \n",
        "\n",
        "\n",
        "\n",
        "s = Stack()\n",
        "s.push(2)    \n",
        "s.push(3)\n",
        "s.pop()\n",
        "s.peek()\n",
        "s.size()"
      ],
      "execution_count": 14,
      "outputs": [
        {
          "output_type": "execute_result",
          "data": {
            "text/plain": [
              "1"
            ]
          },
          "metadata": {},
          "execution_count": 14
        }
      ]
    },
    {
      "cell_type": "code",
      "metadata": {
        "id": "SdQ9h8NpfRhS"
      },
      "source": [
        ""
      ],
      "execution_count": null,
      "outputs": []
    }
  ]
}