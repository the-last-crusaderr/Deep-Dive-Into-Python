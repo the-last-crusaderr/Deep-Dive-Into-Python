{
  "nbformat": 4,
  "nbformat_minor": 0,
  "metadata": {
    "colab": {
      "name": "automateTheBoringStuff.ipynb",
      "provenance": [],
      "authorship_tag": "ABX9TyO8ceP0ufOIBfqJC78whI9w",
      "include_colab_link": true
    },
    "kernelspec": {
      "name": "python3",
      "display_name": "Python 3"
    },
    "language_info": {
      "name": "python"
    }
  },
  "cells": [
    {
      "cell_type": "markdown",
      "metadata": {
        "id": "view-in-github",
        "colab_type": "text"
      },
      "source": [
        "<a href=\"https://colab.research.google.com/github/the-last-crusaderr/Deep-Dive-Into-Python/blob/main/automateTheBoringStuff.ipynb\" target=\"_parent\"><img src=\"https://colab.research.google.com/assets/colab-badge.svg\" alt=\"Open In Colab\"/></a>"
      ]
    },
    {
      "cell_type": "code",
      "metadata": {
        "colab": {
          "base_uri": "https://localhost:8080/",
          "height": 35
        },
        "id": "t1y1n4jQbrn-",
        "outputId": "4d662e81-b761-4003-998e-ed3d12a74e6c"
      },
      "source": [
        "\n",
        "\n",
        "\"dafafaffa\\nDafafafaf\\nfafaff\""
      ],
      "execution_count": 8,
      "outputs": [
        {
          "output_type": "execute_result",
          "data": {
            "application/vnd.google.colaboratory.intrinsic+json": {
              "type": "string"
            },
            "text/plain": [
              "'dafafaffa\\nDafafafaf\\nfafaff'"
            ]
          },
          "metadata": {},
          "execution_count": 8
        }
      ]
    },
    {
      "cell_type": "code",
      "metadata": {
        "colab": {
          "base_uri": "https://localhost:8080/",
          "height": 200
        },
        "id": "f9rqo2wybxH5",
        "outputId": "ba657fd9-bd13-4d40-f297-719f106f68d8"
      },
      "source": [
        "'Alice' + '32'\n",
        "\n",
        "\n",
        "\n",
        "x = 'Alive'\n",
        "y = 'Fine'\n",
        "\n",
        "x*43\n",
        "x*y"
      ],
      "execution_count": 16,
      "outputs": [
        {
          "output_type": "error",
          "ename": "TypeError",
          "evalue": "ignored",
          "traceback": [
            "\u001b[0;31m---------------------------------------------------------------------------\u001b[0m",
            "\u001b[0;31mTypeError\u001b[0m                                 Traceback (most recent call last)",
            "\u001b[0;32m<ipython-input-16-fbb9d2d91f92>\u001b[0m in \u001b[0;36m<module>\u001b[0;34m()\u001b[0m\n\u001b[1;32m      7\u001b[0m \u001b[0;34m\u001b[0m\u001b[0m\n\u001b[1;32m      8\u001b[0m \u001b[0mx\u001b[0m\u001b[0;34m*\u001b[0m\u001b[0;36m43\u001b[0m\u001b[0;34m\u001b[0m\u001b[0;34m\u001b[0m\u001b[0m\n\u001b[0;32m----> 9\u001b[0;31m \u001b[0mx\u001b[0m\u001b[0;34m*\u001b[0m\u001b[0my\u001b[0m\u001b[0;34m\u001b[0m\u001b[0;34m\u001b[0m\u001b[0m\n\u001b[0m",
            "\u001b[0;31mTypeError\u001b[0m: can't multiply sequence by non-int of type 'str'"
          ]
        }
      ]
    },
    {
      "cell_type": "code",
      "metadata": {
        "colab": {
          "base_uri": "https://localhost:8080/"
        },
        "id": "4qgAVSsoc9oa",
        "outputId": "fc04c660-f0f5-48b0-9c7f-3bfd84d3ed78"
      },
      "source": [
        "_4af = 43\n",
        "name = input()\n",
        "print(name)\n",
        "print()\n",
        "print('fafaf')\n"
      ],
      "execution_count": 21,
      "outputs": [
        {
          "output_type": "stream",
          "name": "stdout",
          "text": [
            "fakfhafkafhakfh\n",
            "fakfhafkafhakfh\n",
            "\n",
            "fafaf\n"
          ]
        }
      ]
    },
    {
      "cell_type": "code",
      "metadata": {
        "colab": {
          "base_uri": "https://localhost:8080/"
        },
        "id": "YFpOB9GZd669",
        "outputId": "12746091-ca9b-4988-a951-6de48e3f7acc"
      },
      "source": [
        "'32' == 32.0"
      ],
      "execution_count": 23,
      "outputs": [
        {
          "output_type": "execute_result",
          "data": {
            "text/plain": [
              "False"
            ]
          },
          "metadata": {},
          "execution_count": 23
        }
      ]
    },
    {
      "cell_type": "code",
      "metadata": {
        "colab": {
          "base_uri": "https://localhost:8080/"
        },
        "id": "J5cz-XmZeo4y",
        "outputId": "55bf1209-8edd-461f-949c-e8e8e8050ac7"
      },
      "source": [
        "bacon = 20\n",
        "bacon + 1\n",
        "bacon\n"
      ],
      "execution_count": 25,
      "outputs": [
        {
          "output_type": "execute_result",
          "data": {
            "text/plain": [
              "20"
            ]
          },
          "metadata": {},
          "execution_count": 25
        }
      ]
    },
    {
      "cell_type": "code",
      "metadata": {
        "colab": {
          "base_uri": "https://localhost:8080/"
        },
        "id": "bo-5S7AOe95m",
        "outputId": "eab1c029-6daa-4207-e1d2-6bd88723a253"
      },
      "source": [
        "import math\n",
        "\n",
        "print(math.ceil(1.2))\n",
        "\n",
        "for _ in range(11):\n",
        "  print(_)\n",
        "\n",
        "i = 0\n",
        "while(i<11):  \n",
        "  print(i)\n",
        "  i +=1"
      ],
      "execution_count": 32,
      "outputs": [
        {
          "output_type": "stream",
          "name": "stdout",
          "text": [
            "2\n",
            "0\n",
            "1\n",
            "2\n",
            "3\n",
            "4\n",
            "5\n",
            "6\n",
            "7\n",
            "8\n",
            "9\n",
            "10\n",
            "0\n",
            "1\n",
            "2\n",
            "3\n",
            "4\n",
            "5\n",
            "6\n",
            "7\n",
            "8\n",
            "9\n",
            "10\n"
          ]
        }
      ]
    },
    {
      "cell_type": "code",
      "metadata": {
        "colab": {
          "base_uri": "https://localhost:8080/"
        },
        "id": "Z01kZYmngENO",
        "outputId": "71c909bb-971d-4900-f092-124df7b2476a"
      },
      "source": [
        "# The Collatz sequence\n",
        "\n",
        "\n",
        "def collatz(i):\n",
        "  if i%2 == 0:\n",
        "    temp = i//2\n",
        "    print(temp)\n",
        "    return temp\n",
        "\n",
        "  temp = 3*i+1  \n",
        "  print(temp)\n",
        "  return temp\n",
        "\n",
        "\n",
        "try:\n",
        "  i = int(input())\n",
        "except ValueError:\n",
        "  print('Oops!! Try Again..You must enter an integer')  \n",
        "\n",
        "\n",
        "\n",
        "\n",
        "while(i!=1):\n",
        "  i = collatz(i)\n",
        "\n"
      ],
      "execution_count": 41,
      "outputs": [
        {
          "output_type": "stream",
          "name": "stdout",
          "text": [
            "32\n",
            "16\n",
            "8\n",
            "4\n",
            "2\n",
            "1\n"
          ]
        }
      ]
    },
    {
      "cell_type": "code",
      "metadata": {
        "id": "PNX5i4DxhbI1"
      },
      "source": [
        ""
      ],
      "execution_count": null,
      "outputs": []
    }
  ]
}